{
 "cells": [
  {
   "cell_type": "code",
   "execution_count": 2,
   "metadata": {},
   "outputs": [],
   "source": [
    "import matplotlib.pyplot as plt\n",
    "import numpy as np\n",
    "\n",
    "import torch\n",
    "from torch import nn\n",
    "from torch.autograd import Variable"
   ]
  },
  {
   "cell_type": "code",
   "execution_count": 3,
   "metadata": {},
   "outputs": [
    {
     "data": {
      "text/plain": [
       "(array([[ 3.3  ],\n",
       "        [ 4.4  ],\n",
       "        [ 5.5  ],\n",
       "        [ 6.71 ],\n",
       "        [ 6.93 ],\n",
       "        [ 4.168],\n",
       "        [ 9.779],\n",
       "        [ 6.182],\n",
       "        [ 7.59 ],\n",
       "        [ 2.167],\n",
       "        [ 7.042],\n",
       "        [10.791],\n",
       "        [ 5.313],\n",
       "        [ 7.997],\n",
       "        [ 3.1  ]], dtype=float32),\n",
       " (15, 1))"
      ]
     },
     "execution_count": 3,
     "metadata": {},
     "output_type": "execute_result"
    }
   ],
   "source": [
    "x_train = np.array([[3.3], [4.4], [5.5], [6.71], [6.93], [4.168],\n",
    "                    [9.779], [6.182], [7.59], [2.167], [7.042],\n",
    "                    [10.791], [5.313], [7.997], [3.1]], dtype=np.float32)\n",
    "x_train, x_train.shape"
   ]
  },
  {
   "cell_type": "code",
   "execution_count": 4,
   "metadata": {},
   "outputs": [
    {
     "data": {
      "text/plain": [
       "(array([[1.7  ],\n",
       "        [2.76 ],\n",
       "        [2.09 ],\n",
       "        [3.19 ],\n",
       "        [1.694],\n",
       "        [1.573],\n",
       "        [3.366],\n",
       "        [2.596],\n",
       "        [2.53 ],\n",
       "        [1.221],\n",
       "        [2.827],\n",
       "        [3.465],\n",
       "        [1.65 ],\n",
       "        [2.904],\n",
       "        [1.3  ]], dtype=float32),\n",
       " (15, 1))"
      ]
     },
     "execution_count": 4,
     "metadata": {},
     "output_type": "execute_result"
    }
   ],
   "source": [
    "y_train = np.array([[1.7], [2.76], [2.09], [3.19], [1.694], [1.573],\n",
    "                    [3.366], [2.596], [2.53], [1.221], [2.827],\n",
    "                    [3.465], [1.65], [2.904], [1.3]], dtype=np.float32)\n",
    "y_train, y_train.shape"
   ]
  },
  {
   "cell_type": "code",
   "execution_count": 5,
   "metadata": {},
   "outputs": [
    {
     "data": {
      "text/plain": [
       "tensor([[ 3.3000],\n",
       "        [ 4.4000],\n",
       "        [ 5.5000],\n",
       "        [ 6.7100],\n",
       "        [ 6.9300],\n",
       "        [ 4.1680],\n",
       "        [ 9.7790],\n",
       "        [ 6.1820],\n",
       "        [ 7.5900],\n",
       "        [ 2.1670],\n",
       "        [ 7.0420],\n",
       "        [10.7910],\n",
       "        [ 5.3130],\n",
       "        [ 7.9970],\n",
       "        [ 3.1000]])"
      ]
     },
     "execution_count": 5,
     "metadata": {},
     "output_type": "execute_result"
    }
   ],
   "source": [
    "x_train = torch.from_numpy(x_train) # or torch.Tensor(x_train)\n",
    "x_train"
   ]
  },
  {
   "cell_type": "code",
   "execution_count": 6,
   "metadata": {},
   "outputs": [
    {
     "data": {
      "text/plain": [
       "tensor([[1.7000],\n",
       "        [2.7600],\n",
       "        [2.0900],\n",
       "        [3.1900],\n",
       "        [1.6940],\n",
       "        [1.5730],\n",
       "        [3.3660],\n",
       "        [2.5960],\n",
       "        [2.5300],\n",
       "        [1.2210],\n",
       "        [2.8270],\n",
       "        [3.4650],\n",
       "        [1.6500],\n",
       "        [2.9040],\n",
       "        [1.3000]])"
      ]
     },
     "execution_count": 6,
     "metadata": {},
     "output_type": "execute_result"
    }
   ],
   "source": [
    "y_train = torch.from_numpy(y_train)\n",
    "y_train"
   ]
  },
  {
   "cell_type": "code",
   "execution_count": 7,
   "metadata": {},
   "outputs": [
    {
     "data": {
      "text/plain": [
       "(tensor([[ 3.3000],\n",
       "         [ 4.4000],\n",
       "         [ 5.5000],\n",
       "         [ 6.7100],\n",
       "         [ 6.9300],\n",
       "         [ 4.1680],\n",
       "         [ 9.7790],\n",
       "         [ 6.1820],\n",
       "         [ 7.5900],\n",
       "         [ 2.1670],\n",
       "         [ 7.0420],\n",
       "         [10.7910],\n",
       "         [ 5.3130],\n",
       "         [ 7.9970],\n",
       "         [ 3.1000]]),\n",
       " torch.Size([15, 1]),\n",
       " tensor([[1.7000],\n",
       "         [2.7600],\n",
       "         [2.0900],\n",
       "         [3.1900],\n",
       "         [1.6940],\n",
       "         [1.5730],\n",
       "         [3.3660],\n",
       "         [2.5960],\n",
       "         [2.5300],\n",
       "         [1.2210],\n",
       "         [2.8270],\n",
       "         [3.4650],\n",
       "         [1.6500],\n",
       "         [2.9040],\n",
       "         [1.3000]]),\n",
       " torch.Size([15, 1]))"
      ]
     },
     "execution_count": 7,
     "metadata": {},
     "output_type": "execute_result"
    }
   ],
   "source": [
    "x_train, x_train.shape, y_train, y_train.shape"
   ]
  },
  {
   "cell_type": "code",
   "execution_count": 8,
   "metadata": {},
   "outputs": [
    {
     "name": "stdout",
     "output_type": "stream",
     "text": [
      "20\n",
      "16\n"
     ]
    }
   ],
   "source": [
    "# a quick intro/demo to the usage of super().__init__()\n",
    "class Rectangle:\n",
    "    def __init__(self, length, width):\n",
    "        self.length = length\n",
    "        self.width = width\n",
    "\n",
    "    def area(self):\n",
    "        return self.length * self.width\n",
    "\n",
    "    def perimeter(self):\n",
    "        return 2 * self.length + 2 * self.width\n",
    "\n",
    "# Here we declare that the Square class inherits from the Rectangle class\n",
    "class Square(Rectangle):\n",
    "    def __init__(self, length):\n",
    "        # super().__init__(length, length)\n",
    "        super(Square, self).__init__(length, length)\n",
    "\n",
    "a = Rectangle(5, 4)\n",
    "print(a.area())\n",
    "\n",
    "b = Square(4)\n",
    "print(b.area())"
   ]
  },
  {
   "cell_type": "code",
   "execution_count": 9,
   "metadata": {},
   "outputs": [],
   "source": [
    "# Linear Regression Model\n",
    "class linearRegression(nn.Module):\n",
    "    def __init__(self):\n",
    "        super(linearRegression, self).__init__()\n",
    "        self.linear = nn.Linear(1, 1)  # input and output is 1 dimension\n",
    "\n",
    "    def forward(self, x):\n",
    "        out = self.linear(x)\n",
    "        return out"
   ]
  },
  {
   "cell_type": "code",
   "execution_count": 11,
   "metadata": {},
   "outputs": [
    {
     "name": "stdout",
     "output_type": "stream",
     "text": [
      "Begin training...\n",
      "Epoch[0/1000], loss: 3.583740\n",
      "Epoch[20/1000], loss: 2.641477\n",
      "Epoch[40/1000], loss: 1.975477\n",
      "Epoch[60/1000], loss: 1.504724\n",
      "Epoch[80/1000], loss: 1.171961\n",
      "Epoch[100/1000], loss: 0.936722\n",
      "Epoch[120/1000], loss: 0.770408\n",
      "Epoch[140/1000], loss: 0.652806\n",
      "Epoch[160/1000], loss: 0.569631\n",
      "Epoch[180/1000], loss: 0.510787\n",
      "Epoch[200/1000], loss: 0.469139\n",
      "Epoch[220/1000], loss: 0.439645\n",
      "Epoch[240/1000], loss: 0.418739\n",
      "Epoch[260/1000], loss: 0.403905\n",
      "Epoch[280/1000], loss: 0.393360\n",
      "Epoch[300/1000], loss: 0.385848\n",
      "Epoch[320/1000], loss: 0.380479\n",
      "Epoch[340/1000], loss: 0.376625\n",
      "Epoch[360/1000], loss: 0.373841\n",
      "Epoch[380/1000], loss: 0.371814\n",
      "Epoch[400/1000], loss: 0.370322\n",
      "Epoch[420/1000], loss: 0.369208\n",
      "Epoch[440/1000], loss: 0.368361\n",
      "Epoch[460/1000], loss: 0.367703\n",
      "Epoch[480/1000], loss: 0.367178\n",
      "Epoch[500/1000], loss: 0.366748\n",
      "Epoch[520/1000], loss: 0.366385\n",
      "Epoch[540/1000], loss: 0.366069\n",
      "Epoch[560/1000], loss: 0.365787\n",
      "Epoch[580/1000], loss: 0.365528\n",
      "Epoch[600/1000], loss: 0.365286\n",
      "Epoch[620/1000], loss: 0.365057\n",
      "Epoch[640/1000], loss: 0.364835\n",
      "Epoch[660/1000], loss: 0.364620\n",
      "Epoch[680/1000], loss: 0.364409\n",
      "Epoch[700/1000], loss: 0.364201\n",
      "Epoch[720/1000], loss: 0.363996\n",
      "Epoch[740/1000], loss: 0.363792\n",
      "Epoch[760/1000], loss: 0.363589\n",
      "Epoch[780/1000], loss: 0.363388\n",
      "Epoch[800/1000], loss: 0.363187\n",
      "Epoch[820/1000], loss: 0.362987\n",
      "Epoch[840/1000], loss: 0.362787\n",
      "Epoch[860/1000], loss: 0.362587\n",
      "Epoch[880/1000], loss: 0.362388\n",
      "Epoch[900/1000], loss: 0.362189\n",
      "Epoch[920/1000], loss: 0.361990\n",
      "Epoch[940/1000], loss: 0.361792\n",
      "Epoch[960/1000], loss: 0.361594\n",
      "Epoch[980/1000], loss: 0.361396\n",
      "training is done...\n",
      "Model is saved at ./saved_models\n"
     ]
    },
    {
     "data": {
      "image/png": "[encoded data removed]",
      "text/plain": [
       "<Figure size 720x360 with 1 Axes>"
      ]
     },
     "metadata": {
      "needs_background": "light"
     },
     "output_type": "display_data"
    }
   ],
   "source": [
    "if __name__ == \"__main__\":\n",
    "    \n",
    "    # init\n",
    "    model = linearRegression()\n",
    "    criterion = nn.MSELoss() # loss function\n",
    "    optimizer = torch.optim.SGD(model.parameters(), lr=1e-4)\n",
    "    \n",
    "    # training\n",
    "    print(\"Begin training...\")\n",
    "    num_epochs = 1000\n",
    "    \n",
    "    for epoch in range(num_epochs):\n",
    "        # data\n",
    "        inputs = x_train\n",
    "        target = y_train\n",
    "        \n",
    "        # forward\n",
    "        out = model(inputs)\n",
    "        loss = criterion(out, target)\n",
    "        \n",
    "        # backward\n",
    "        optimizer.zero_grad()\n",
    "        loss.backward()\n",
    "        optimizer.step()\n",
    "        \n",
    "        # log the info and result\n",
    "        if epoch % 20 == 0:\n",
    "            print(f'Epoch[{epoch}/{num_epochs}], loss: {loss.item():.6f}')\n",
    "    \n",
    "    # finish training\n",
    "    print(\"training is done...\")\n",
    "    \n",
    "    # save the model\n",
    "    torch.save(model.state_dict(), './saved_models/linearRegression.pth')\n",
    "    print(\"Model is saved at ./saved_models\")\n",
    "    \n",
    "    # validation\n",
    "    model.eval()\n",
    "    with torch.no_grad():\n",
    "        y_predict = model(x_train)\n",
    "        \n",
    "    # check the validation result  \n",
    "    fig = plt.figure(figsize=(10, 5))\n",
    "    plt.plot(x_train.numpy(), y_train.numpy(), 'ro', label='Original data')\n",
    "    plt.plot(x_train.numpy(), y_predict, label='Fitting Line')\n",
    "    plt.legend() \n",
    "    plt.show()"
   ]
  },
  {
   "cell_type": "code",
   "execution_count": null,
   "metadata": {},
   "outputs": [],
   "source": []
  }
 ],
 "metadata": {
  "kernelspec": {
   "display_name": "Python 3.7.13 ('Pytorch_cpu')",
   "language": "python",
   "name": "python3"
  },
  "language_info": {
   "codemirror_mode": {
    "name": "ipython",
    "version": 3
   },
   "file_extension": ".py",
   "mimetype": "text/x-python",
   "name": "python",
   "nbconvert_exporter": "python",
   "pygments_lexer": "ipython3",
   "version": "3.7.13"
  },
  "orig_nbformat": 4,
  "vscode": {
   "interpreter": {
    "hash": "c36131d3b4429ff7b2b348bb27a25dd6352ea45fcba8012f63f2b36f1c6df3a7"
   }
  }
 },
 "nbformat": 4,
 "nbformat_minor": 2
}
